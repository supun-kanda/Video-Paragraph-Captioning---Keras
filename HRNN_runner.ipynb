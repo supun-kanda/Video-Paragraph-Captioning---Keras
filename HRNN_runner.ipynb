{
 "cells": [
  {
   "cell_type": "code",
   "execution_count": 1,
   "metadata": {},
   "outputs": [
    {
     "name": "stderr",
     "output_type": "stream",
     "text": [
      "Using TensorFlow backend.\n"
     ]
    }
   ],
   "source": [
    "import numpy as np\n",
    "from Caption_Generator import Caption_Generator\n",
    "import json"
   ]
  },
  {
   "cell_type": "code",
   "execution_count": null,
   "metadata": {},
   "outputs": [
    {
     "name": "stdout",
     "output_type": "stream",
     "text": [
      "vid_ids verified\n"
     ]
    }
   ],
   "source": [
    "json_file = \"Data/train_ids.json\"\n",
    "train_json_file = \"Data/train.json\"\n",
    "with open(train_json_file) as train:\n",
    "    training_labels = json.load(train)\n",
    "with open(json_file) as data_file:\n",
    "    vid_ids = json.load(data_file)\n",
    "generator = Caption_Generator(vid_ids = vid_ids, training_labels = training_labels, train_epochs = 5)"
   ]
  },
  {
   "cell_type": "code",
   "execution_count": null,
   "metadata": {},
   "outputs": [
    {
     "name": "stdout",
     "output_type": "stream",
     "text": [
      "loading Data for new Batch... \n",
      "creating vocabulary...\n",
      "Max sentence length :  76\n",
      "encoding inputs...\n",
      "embedding inputs....\n",
      "Building Sentence Generator Model...\n",
      "\n",
      "\tAttention_Layer....\n",
      "h :  (None, 76, 512)\n",
      "v :  (None, 200, 500)\n",
      "W :  (500, 32)\n",
      "U :  (512, 32)\n",
      "U_h :  (None, 76, 1, 32)\n",
      "W_v :  (None, 1, 200, 32)\n",
      "f :  (None, 76, 200, 32)\n",
      "q :  (None, 76, 200, 500)\n",
      "beta :  (None, 76, 200, 500)\n",
      "u :  (None, 76, 500)\n",
      "__________________________________________________________________________________________________\n",
      "Layer (type)                    Output Shape         Param #     Connected to                     \n",
      "==================================================================================================\n",
      "input_1 (InputLayer)            (None, 76, 512)      0                                            \n",
      "__________________________________________________________________________________________________\n",
      "gru_1 (GRU)                     (None, 76, 512)      1574400     input_1[0][0]                    \n",
      "__________________________________________________________________________________________________\n",
      "input_2 (InputLayer)            (None, 200, 500)     0                                            \n",
      "__________________________________________________________________________________________________\n",
      "attention__layer_1 (Attention_L (None, 76, 500)      48416       gru_1[0][0]                      \n",
      "                                                                 input_2[0][0]                    \n",
      "__________________________________________________________________________________________________\n",
      "multimodel__layer_1 (Multimodel (None, 76, 1024)     1037312     gru_1[0][0]                      \n",
      "                                                                 attention__layer_1[0][0]         \n",
      "__________________________________________________________________________________________________\n",
      "dropout_1 (Dropout)             (None, 76, 1024)     0           multimodel__layer_1[0][0]        \n",
      "__________________________________________________________________________________________________\n",
      "time_distributed_1 (TimeDistrib (None, 76, 512)      524800      dropout_1[0][0]                  \n",
      "__________________________________________________________________________________________________\n",
      "dense_3 (Dense)                 (None, 76, 15734)    8071542     time_distributed_1[0][0]         \n",
      "==================================================================================================\n",
      "Total params: 11,256,470\n",
      "Trainable params: 11,256,470\n",
      "Non-trainable params: 0\n",
      "__________________________________________________________________________________________________\n",
      "Train on 4637 samples, validate on 1988 samples\n",
      "Epoch 1/5\n",
      "4250/4637 [==========================>...] - ETA: 25s - loss: 0.1915 - acc: 0.7062"
     ]
    }
   ],
   "source": [
    "model,hist = generator.train()"
   ]
  },
  {
   "cell_type": "code",
   "execution_count": 59,
   "metadata": {},
   "outputs": [
    {
     "data": {
      "text/plain": [
       "[<matplotlib.lines.Line2D at 0x7f803b266400>]"
      ]
     },
     "execution_count": 59,
     "metadata": {},
     "output_type": "execute_result"
    },
    {
     "data": {
      "image/png": "[encoded data removed]",
      "text/plain": [
       "<Figure size 504x504 with 1 Axes>"
      ]
     },
     "metadata": {},
     "output_type": "display_data"
    }
   ],
   "source": [
    "import pickle\n",
    "import numpy as np\n",
    "import matplotlib.pyplot as plt\n",
    "with open(\"Data/histfile.pkl\",'rb') as f:\n",
    "    history = pickle.load(f)\n",
    "val_loss = history['val_loss']\n",
    "val_acc = history['val_acc']\n",
    "loss = history['loss']\n",
    "acc = history['acc']\n",
    "plt.figure(1,figsize=[7,7])\n",
    "epochs = [1,2,3,4,5]\n",
    "\n",
    "plt.plot(epochs,acc,'r')"
   ]
  },
  {
   "cell_type": "code",
   "execution_count": 42,
   "metadata": {},
   "outputs": [
    {
     "data": {
      "text/plain": [
       "[array([2.16350731, 1.94516072, 1.92945535, 2.01858717, 1.96005453]),\n",
       " 0,\n",
       " 0,\n",
       " 0,\n",
       " 0]"
      ]
     },
     "execution_count": 42,
     "metadata": {},
     "output_type": "execute_result"
    }
   ],
   "source": [
    "a"
   ]
  },
  {
   "cell_type": "code",
   "execution_count": 36,
   "metadata": {},
   "outputs": [
    {
     "data": {
      "text/plain": [
       "list"
      ]
     },
     "execution_count": 36,
     "metadata": {},
     "output_type": "execute_result"
    }
   ],
   "source": [
    "type(loss)"
   ]
  },
  {
   "cell_type": "code",
   "execution_count": null,
   "metadata": {},
   "outputs": [],
   "source": []
  }
 ],
 "metadata": {
  "kernelspec": {
   "display_name": "Python 3",
   "language": "python",
   "name": "python3"
  },
  "language_info": {
   "codemirror_mode": {
    "name": "ipython",
    "version": 3
   },
   "file_extension": ".py",
   "mimetype": "text/x-python",
   "name": "python",
   "nbconvert_exporter": "python",
   "pygments_lexer": "ipython3",
   "version": "3.6.4"
  }
 },
 "nbformat": 4,
 "nbformat_minor": 2
}
