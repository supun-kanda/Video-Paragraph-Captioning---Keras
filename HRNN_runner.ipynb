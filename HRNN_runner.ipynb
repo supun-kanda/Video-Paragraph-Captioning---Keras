{
 "cells": [
  {
   "cell_type": "code",
   "execution_count": 1,
   "metadata": {},
   "outputs": [
    {
     "name": "stderr",
     "output_type": "stream",
     "text": [
      "Using TensorFlow backend.\n"
     ]
    }
   ],
   "source": [
    "import numpy as np\n",
    "from Caption_Generator import Caption_Generator\n",
    "import json"
   ]
  },
  {
   "cell_type": "code",
   "execution_count": 2,
   "metadata": {},
   "outputs": [
    {
     "name": "stdout",
     "output_type": "stream",
     "text": [
      "vid_ids verified\n"
     ]
    }
   ],
   "source": [
    "json_file = \"Data/train_ids.json\"\n",
    "train_json_file = \"Data/train.json\"\n",
    "with open(train_json_file) as train:\n",
    "    training_labels = json.load(train)\n",
    "with open(json_file) as data_file:\n",
    "    vid_ids = json.load(data_file)\n",
    "generator = Caption_Generator(vid_ids = vid_ids, training_labels = training_labels, train_epochs = 5)"
   ]
  },
  {
   "cell_type": "code",
   "execution_count": null,
   "metadata": {},
   "outputs": [],
   "source": [
    "model,hist = generator.train()"
   ]
  },
  {
   "cell_type": "code",
   "execution_count": 5,
   "metadata": {},
   "outputs": [
    {
     "data": {
      "text/plain": [
       "[<matplotlib.lines.Line2D at 0x7f4d45e57dd8>]"
      ]
     },
     "execution_count": 5,
     "metadata": {},
     "output_type": "execute_result"
    },
    {
     "data": {
      "image/png": "[encoded data removed]",
      "text/plain": [
       "<Figure size 504x504 with 1 Axes>"
      ]
     },
     "metadata": {},
     "output_type": "display_data"
    }
   ],
   "source": [
    "import pickle\n",
    "import numpy as np\n",
    "import matplotlib.pyplot as plt\n",
    "with open(\"Data/histfile.pkl\",'rb') as f:\n",
    "    history = pickle.load(f)\n",
    "val_loss = history['val_loss']\n",
    "val_acc = history['val_acc']\n",
    "loss = history['loss']\n",
    "acc = history['acc']\n",
    "plt.figure(1,figsize=[7,7])\n",
    "epochs = [1,2,3,4,5]\n",
    "\n",
    "plt.plot(epochs,acc,'r')"
   ]
  },
  {
   "cell_type": "code",
   "execution_count": null,
   "metadata": {},
   "outputs": [],
   "source": [
    "a"
   ]
  },
  {
   "cell_type": "code",
   "execution_count": null,
   "metadata": {},
   "outputs": [],
   "source": []
  }
 ],
 "metadata": {
  "kernelspec": {
   "display_name": "Python 3",
   "language": "python",
   "name": "python3"
  },
  "language_info": {
   "codemirror_mode": {
    "name": "ipython",
    "version": 3
   },
   "file_extension": ".py",
   "mimetype": "text/x-python",
   "name": "python",
   "nbconvert_exporter": "python",
   "pygments_lexer": "ipython3",
   "version": "3.6.4"
  }
 },
 "nbformat": 4,
 "nbformat_minor": 2
}
