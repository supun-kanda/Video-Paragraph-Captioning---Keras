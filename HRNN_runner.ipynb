{
 "cells": [
  {
   "cell_type": "code",
   "execution_count": 1,
   "metadata": {},
   "outputs": [
    {
     "name": "stderr",
     "output_type": "stream",
     "text": [
      "Using TensorFlow backend.\n"
     ]
    }
   ],
   "source": [
    "import numpy as np\n",
    "from Caption_Generator import Caption_Generator\n",
    "import json"
   ]
  },
  {
   "cell_type": "code",
   "execution_count": 2,
   "metadata": {},
   "outputs": [
    {
     "name": "stdout",
     "output_type": "stream",
     "text": [
      "vid_ids verified\n"
     ]
    }
   ],
   "source": [
    "json_file = \"Data/train_ids.json\"\n",
    "train_json_file = \"Data/train.json\"\n",
    "with open(train_json_file) as train:\n",
    "    training_labels = json.load(train)\n",
    "with open(json_file) as data_file:\n",
    "    vid_ids = json.load(data_file)\n",
    "generator = Caption_Generator(vid_ids = vid_ids, training_labels = training_labels, train_epochs = 1)"
   ]
  },
  {
   "cell_type": "code",
   "execution_count": 3,
   "metadata": {},
   "outputs": [
    {
     "name": "stdout",
     "output_type": "stream",
     "text": [
      "Start Training...\n",
      "Data Preprocessing....\n",
      "loading Data for new Batch... \n",
      "Done loading Data\n",
      "Transforming Inputs...\n",
      "Done Transforming Inputs...\n",
      "creating vocabulary...\n",
      "Max sentence length :  76\n",
      "Done creating vocabulary\n",
      "encoding inputs...\n",
      "Done encoding inputs...\n",
      "embedding inputs....\n",
      "Done embedding inputs....\n",
      "Done Data Preprocessing....\n",
      "Building Sentence Generator Model...\n",
      "\n",
      "\tAttention_Layer....\n",
      "h :  (None, 76, 512)\n",
      "v :  (None, 200, 500)\n",
      "W :  (500, 32)\n",
      "U :  (512, 32)\n",
      "U_h :  (None, 76, 1, 32)\n",
      "W_v :  (None, 1, 200, 32)\n",
      "f :  (None, 76, 200, 32)\n",
      "q :  (None, 76, 200, 500)\n",
      "beta :  (None, 76, 200, 500)\n",
      "u :  (None, 76, 500)\n",
      "__________________________________________________________________________________________________\n",
      "Layer (type)                    Output Shape         Param #     Connected to                     \n",
      "==================================================================================================\n",
      "input_1 (InputLayer)            (None, 76, 512)      0                                            \n",
      "__________________________________________________________________________________________________\n",
      "gru_1 (GRU)                     (None, 76, 512)      1574400     input_1[0][0]                    \n",
      "__________________________________________________________________________________________________\n",
      "input_2 (InputLayer)            (None, 200, 500)     0                                            \n",
      "__________________________________________________________________________________________________\n",
      "attention__layer_1 (Attention_L (None, 76, 500)      48416       gru_1[0][0]                      \n",
      "                                                                 input_2[0][0]                    \n",
      "__________________________________________________________________________________________________\n",
      "multimodel__layer_1 (Multimodel (None, 76, 1024)     1037312     gru_1[0][0]                      \n",
      "                                                                 attention__layer_1[0][0]         \n",
      "__________________________________________________________________________________________________\n",
      "dropout_1 (Dropout)             (None, 76, 1024)     0           multimodel__layer_1[0][0]        \n",
      "__________________________________________________________________________________________________\n",
      "time_distributed_1 (TimeDistrib (None, 76, 512)      524800      dropout_1[0][0]                  \n",
      "__________________________________________________________________________________________________\n",
      "dense_3 (Dense)                 (None, 76, 15861)    8136693     time_distributed_1[0][0]         \n",
      "==================================================================================================\n",
      "Total params: 11,321,621\n",
      "Trainable params: 11,321,621\n",
      "Non-trainable params: 0\n",
      "__________________________________________________________________________________________________\n",
      "Done Building...\n",
      "Train on 779 samples, validate on 334 samples\n",
      "Epoch 1/1\n",
      "779/779 [==============================] - 61s 78ms/step - loss: 1.4212 - acc: 0.0149 - val_loss: 1.2693 - val_acc: 0.0168\n",
      "\n",
      "Epoch 00001: loss improved from inf to 1.42122, saving model to Data/model_results/word-weights-improvement-01-1.4212.hdf5\n",
      "Saved model to disk\n",
      "Done Training...\n"
     ]
    }
   ],
   "source": [
    "model,hist = generator.train()"
   ]
  },
  {
   "cell_type": "code",
   "execution_count": 4,
   "metadata": {},
   "outputs": [
    {
     "name": "stdout",
     "output_type": "stream",
     "text": [
      "number of files :  500\n",
      "embedding inputs....\n",
      "Done embedding inputs....\n",
      "embedded_input :  (1851, 76, 512)\n",
      "video_features :  (1851, 200, 500)\n",
      "Building Sentence Generator Model...\n",
      "\n",
      "\tAttention_Layer....\n",
      "h :  (None, 76, 512)\n",
      "v :  (None, 200, 500)\n",
      "W :  (500, 32)\n",
      "U :  (512, 32)\n",
      "U_h :  (None, 76, 1, 32)\n",
      "W_v :  (None, 1, 200, 32)\n",
      "f :  (None, 76, 200, 32)\n",
      "q :  (None, 76, 200, 500)\n",
      "beta :  (None, 76, 200, 500)\n",
      "u :  (None, 76, 500)\n",
      "__________________________________________________________________________________________________\n",
      "Layer (type)                    Output Shape         Param #     Connected to                     \n",
      "==================================================================================================\n",
      "input_3 (InputLayer)            (None, 76, 512)      0                                            \n",
      "__________________________________________________________________________________________________\n",
      "gru_2 (GRU)                     (None, 76, 512)      1574400     input_3[0][0]                    \n",
      "__________________________________________________________________________________________________\n",
      "input_4 (InputLayer)            (None, 200, 500)     0                                            \n",
      "__________________________________________________________________________________________________\n",
      "attention__layer_2 (Attention_L (None, 76, 500)      48416       gru_2[0][0]                      \n",
      "                                                                 input_4[0][0]                    \n",
      "__________________________________________________________________________________________________\n",
      "multimodel__layer_2 (Multimodel (None, 76, 1024)     1037312     gru_2[0][0]                      \n",
      "                                                                 attention__layer_2[0][0]         \n",
      "__________________________________________________________________________________________________\n",
      "dropout_2 (Dropout)             (None, 76, 1024)     0           multimodel__layer_2[0][0]        \n",
      "__________________________________________________________________________________________________\n",
      "time_distributed_2 (TimeDistrib (None, 76, 512)      524800      dropout_2[0][0]                  \n",
      "__________________________________________________________________________________________________\n",
      "dense_6 (Dense)                 (None, 76, 15861)    8136693     time_distributed_2[0][0]         \n",
      "==================================================================================================\n",
      "Total params: 11,321,621\n",
      "Trainable params: 11,321,621\n",
      "Non-trainable params: 0\n",
      "__________________________________________________________________________________________________\n",
      "Done Building...\n",
      "Loaded model from disk\n",
      "1851/1851 [==============================] - 62s 33ms/step\n"
     ]
    }
   ],
   "source": [
    "xx = generator.test()"
   ]
  },
  {
   "cell_type": "code",
   "execution_count": null,
   "metadata": {},
   "outputs": [],
   "source": [
    "import pickle\n",
    "import numpy as np\n",
    "import matplotlib.pyplot as plt\n",
    "with open(\"Data/histfile.pkl\",'rb') as f:\n",
    "    history = pickle.load(f)\n",
    "val_loss = history['val_loss']\n",
    "val_acc = history['val_acc']\n",
    "loss = history['loss']\n",
    "acc = history['acc']\n",
    "plt.figure(1,figsize=[7,7])\n",
    "epochs = [1,2,3,4,5]\n",
    "\n",
    "plt.plot(epochs,acc,'r')"
   ]
  },
  {
   "cell_type": "code",
   "execution_count": 6,
   "metadata": {},
   "outputs": [
    {
     "name": "stdout",
     "output_type": "stream",
     "text": [
      "(1851, 76, 15861)\n"
     ]
    }
   ],
   "source": [
    "print(xx.shape)"
   ]
  },
  {
   "cell_type": "code",
   "execution_count": 8,
   "metadata": {},
   "outputs": [
    {
     "name": "stdout",
     "output_type": "stream",
     "text": [
      "Loaded model from disk\n"
     ]
    }
   ],
   "source": [
    "p = generator.load_model(model,1)"
   ]
  },
  {
   "cell_type": "code",
   "execution_count": 10,
   "metadata": {},
   "outputs": [
    {
     "name": "stdout",
     "output_type": "stream",
     "text": [
      "__________________________________________________________________________________________________\n",
      "Layer (type)                    Output Shape         Param #     Connected to                     \n",
      "==================================================================================================\n",
      "input_1 (InputLayer)            (None, 76, 512)      0                                            \n",
      "__________________________________________________________________________________________________\n",
      "gru_1 (GRU)                     (None, 76, 512)      1574400     input_1[0][0]                    \n",
      "__________________________________________________________________________________________________\n",
      "input_2 (InputLayer)            (None, 200, 500)     0                                            \n",
      "__________________________________________________________________________________________________\n",
      "attention__layer_1 (Attention_L (None, 76, 500)      48416       gru_1[0][0]                      \n",
      "                                                                 input_2[0][0]                    \n",
      "__________________________________________________________________________________________________\n",
      "multimodel__layer_1 (Multimodel (None, 76, 1024)     1037312     gru_1[0][0]                      \n",
      "                                                                 attention__layer_1[0][0]         \n",
      "__________________________________________________________________________________________________\n",
      "dropout_1 (Dropout)             (None, 76, 1024)     0           multimodel__layer_1[0][0]        \n",
      "__________________________________________________________________________________________________\n",
      "time_distributed_1 (TimeDistrib (None, 76, 512)      524800      dropout_1[0][0]                  \n",
      "__________________________________________________________________________________________________\n",
      "dense_3 (Dense)                 (None, 76, 15861)    8136693     time_distributed_1[0][0]         \n",
      "==================================================================================================\n",
      "Total params: 11,321,621\n",
      "Trainable params: 11,321,621\n",
      "Non-trainable params: 0\n",
      "__________________________________________________________________________________________________\n"
     ]
    }
   ],
   "source": [
    "p.summary()"
   ]
  },
  {
   "cell_type": "code",
   "execution_count": null,
   "metadata": {},
   "outputs": [],
   "source": []
  }
 ],
 "metadata": {
  "kernelspec": {
   "display_name": "Python 3",
   "language": "python",
   "name": "python3"
  },
  "language_info": {
   "codemirror_mode": {
    "name": "ipython",
    "version": 3
   },
   "file_extension": ".py",
   "mimetype": "text/x-python",
   "name": "python",
   "nbconvert_exporter": "python",
   "pygments_lexer": "ipython3",
   "version": "3.6.4"
  }
 },
 "nbformat": 4,
 "nbformat_minor": 2
}
