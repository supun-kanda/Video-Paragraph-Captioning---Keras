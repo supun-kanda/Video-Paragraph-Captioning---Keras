{
 "cells": [
  {
   "cell_type": "code",
   "execution_count": null,
   "metadata": {},
   "outputs": [],
   "source": [
    "import numpy as np\n",
    "from Caption_Generator import Caption_Generator"
   ]
  },
  {
   "cell_type": "code",
   "execution_count": null,
   "metadata": {},
   "outputs": [],
   "source": [
    "import json\n",
    "json_file = \"Data/train_ids.json\"\n",
    "with open(json_file) as data_file:\n",
    "    n_batch = json.load(data_file)\n",
    "generator = Caption_Generator(vid_ids = n_batch)\n",
    "#x=generator.read_data(n_batch=np.arange(50))\n",
    "#generator.save_no_keys()\n",
    "#generator.train()\n",
    "#video_features, embedded_input, label_tensor = generator.data_preprocessing(np.arange(100))\n",
    "#generator.create_vocabulary()\n",
    "'''\n",
    "with open(\"Data/n_batch.pkl\", \"wb\") as fp:   #Pickling\n",
    "    pickle.dump(l, fp) \n",
    "with open(\"test.txt\", \"rb\") as fp:   # Unpickling\n",
    "    b = pickle.load(fp)\n",
    "'''"
   ]
  },
  {
   "cell_type": "code",
   "execution_count": null,
   "metadata": {},
   "outputs": [],
   "source": [
    "with open(\"Data/train_ids.json\") as data_file:\n",
    "    vid_ids = json.load(data_file)\n",
    "with open(\"Data/train.json\") as data_file:\n",
    "     training_labels = json.load(data_file)\n",
    "captions_in_each_video = []\n",
    "remove_later = []\n",
    "\n",
    "print(training_labels['v_bEt8fGREAAA'])\n",
    "\n",
    "for i in range(len(vid_ids)):\n",
    "    try:\n",
    "        for j in range(len(training_labels[vid_ids[i]]['sentences'])):\n",
    "            ######training_labels[i]['caption'][j]#####\n",
    "            assert len(training_labels[vid_ids[i]]['sentences']) == len(training_labels[vid_ids[i]]['timestamps'])\n",
    "            training_labels[vid_ids[i]]['sentences'][j] = \"<s> \"+training_labels[vid_ids[i]]['sentences'][j]+\" <e>\"\n",
    "    except KeyError:\n",
    "        print(\"\\tError Caption: %s\"%vid_ids[i])"
   ]
  },
  {
   "cell_type": "code",
   "execution_count": null,
   "metadata": {},
   "outputs": [],
   "source": [
    "'v_D_XMD02v690' in vid_ids"
   ]
  },
  {
   "cell_type": "code",
   "execution_count": null,
   "metadata": {},
   "outputs": [],
   "source": [
    "training_labels['v_mQHY2uMOMP4']"
   ]
  },
  {
   "cell_type": "code",
   "execution_count": null,
   "metadata": {},
   "outputs": [],
   "source": [
    "a=np.array([[1,2,3],[5,4,6],[9,12,6]])\n",
    "c,d = a.shape\n",
    "print(c,d)"
   ]
  },
  {
   "cell_type": "code",
   "execution_count": null,
   "metadata": {},
   "outputs": [],
   "source": [
    "import numpy as np\n",
    "a=[[1,22],[4,3],[0,9]]\n",
    "np.max(a)"
   ]
  },
  {
   "cell_type": "code",
   "execution_count": null,
   "metadata": {},
   "outputs": [],
   "source": [
    "f_init = 5\n",
    "duration = 40\n",
    "t_size = 1\n",
    "s = 2\n",
    "for i in range(f_init,f_init + duration - t_size + 1, s):\n",
    "    print(i)"
   ]
  },
  {
   "cell_type": "code",
   "execution_count": null,
   "metadata": {},
   "outputs": [],
   "source": [
    "import os\n",
    "os.listdir('Data/)"
   ]
  },
  {
   "cell_type": "code",
   "execution_count": null,
   "metadata": {},
   "outputs": [],
   "source": [
    "import numpy as np\n",
    "import pickle\n",
    "mylist = np.arange(15)\n",
    "with open('parrot.pkl', 'wb') as f:\n",
    "    pickle.dump(mylist, f)"
   ]
  },
  {
   "cell_type": "code",
   "execution_count": null,
   "metadata": {},
   "outputs": [],
   "source": [
    "with open('parrot.pkl', 'rb') as f2:\n",
    "    mynewlist = pickle.load(f2)"
   ]
  },
  {
   "cell_type": "code",
   "execution_count": null,
   "metadata": {},
   "outputs": [],
   "source": [
    "mynewlist"
   ]
  },
  {
   "cell_type": "code",
   "execution_count": null,
   "metadata": {},
   "outputs": [],
   "source": []
  }
 ],
 "metadata": {
  "kernelspec": {
   "display_name": "Python 3",
   "language": "python",
   "name": "python3"
  },
  "language_info": {
   "codemirror_mode": {
    "name": "ipython",
    "version": 3
   },
   "file_extension": ".py",
   "mimetype": "text/x-python",
   "name": "python",
   "nbconvert_exporter": "python",
   "pygments_lexer": "ipython3",
   "version": "3.6.4"
  }
 },
 "nbformat": 4,
 "nbformat_minor": 2
}
