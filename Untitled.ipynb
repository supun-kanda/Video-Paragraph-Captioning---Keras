{
 "cells": [
  {
   "cell_type": "code",
   "execution_count": 1,
   "metadata": {},
   "outputs": [
    {
     "name": "stderr",
     "output_type": "stream",
     "text": [
      "Using TensorFlow backend.\n"
     ]
    }
   ],
   "source": [
    "import numpy as np\n",
    "from Caption_Generator import Caption_Generator"
   ]
  },
  {
   "cell_type": "code",
   "execution_count": 2,
   "metadata": {},
   "outputs": [
    {
     "name": "stdout",
     "output_type": "stream",
     "text": [
      "vid_ids verified\n",
      "loading Data for new Batch... \n",
      "7370.983315057938\n",
      "v_sJFgo9H6zNo:518x500\n",
      "v_u2uoYvo8J5s:779x500\n",
      "v_--0edUL8zmA:285x500\n",
      "v_c_NlYvL96y0:467x500\n",
      "v_hHiPEAiYKv0:309x500\n",
      "v_GCtrfXIBbwA:402x500\n",
      "v_rs7er4e67ec:334x500\n",
      "v_6ZabZdqdLyA:266x500\n",
      "v_yUSo_xjyGhM:223x500\n",
      "v_Ou24uqaFRPg:149x500\n",
      "v_BxzOUJbq28s:415x500\n",
      "v_Z8yNbpjUSLc:621x500\n",
      "v_6uhLrPgbpUA:170x500\n",
      "v_jIQFVSymHQs:41x500\n",
      "v_2U0vMYnC49c:187x500\n",
      "v_gKkk82LG8H0:453x500\n",
      "v_UvuXGKesWS0:382x500\n",
      "v_gY5akj1YcMk:122x500\n",
      "v_T9JSNxOyUQA:852x500\n",
      "v_-YjGbsbDoxs:606x500\n",
      "v_p800u2wCKbE:149x500\n",
      "v_BfnM0eyjB5Q:554x500\n",
      "v_-Xl95IW5H_s:532x500\n",
      "v_maXU1lGguxs:263x500\n",
      "v_R4ES1QLRvtg:559x500\n",
      "v_jafEh82XETQ:415x500\n",
      "v_5Bo0gFXxDQk:61x500\n",
      "v_hmT9H0IjiGs:1614x500\n",
      "v_97McCuWAynA:474x500\n",
      "v_WEohpavjsIY:406x500\n",
      "v_IGcsVPa34Hc:801x500\n",
      "v_gSeE_Ms-2TI:590x500\n",
      "v_rhOtqArO-3Y:864x500\n",
      "v_xr64cSwpNOM:307x500\n",
      "v_xi4puZ1ulP4:676x500\n",
      "v_lVMMPkvnid8:590x500\n",
      "v_EsVxUf4Ae2c:317x500\n",
      "v_a2vaM_aRHv4:661x500\n",
      "v_XnctHnlJB4g:61x500\n",
      "v_5DhbyYavYp4:877x500\n",
      "v_uHmoFLB-PLc:86x500\n",
      "v_WMdeqUyHWSo:404x500\n",
      "v_gWyBBQtsDhc:812x500\n",
      "v_5iQsKA84vWo:580x500\n",
      "v_G9ZEi6eRhi0:494x500\n",
      "v_zp86ztwZEKk:329x500\n",
      "v_br8Ao_UBEZA:152x500\n",
      "v_buhaBimF4M0:783x500\n",
      "v_LcmTBkWvV74:336x500\n",
      "v_fhtNAMK0Vqk:101x500\n"
     ]
    },
    {
     "data": {
      "text/plain": [
       "'\\nwith open(\"Data/n_batch.pkl\", \"wb\") as fp:   #Pickling\\n    pickle.dump(l, fp) \\nwith open(\"test.txt\", \"rb\") as fp:   # Unpickling\\n    b = pickle.load(fp)\\n'"
      ]
     },
     "execution_count": 2,
     "metadata": {},
     "output_type": "execute_result"
    }
   ],
   "source": [
    "import json\n",
    "json_file = \"Data/train_ids.json\"\n",
    "with open(json_file) as data_file:\n",
    "    n_batch = json.load(data_file)\n",
    "generator = Caption_Generator(vid_ids = n_batch)\n",
    "x=generator.read_data(n_batch=np.arange(50))\n",
    "#generator.save_no_keys()\n",
    "#generator.train()\n",
    "#video_features, embedded_input, label_tensor = generator.data_preprocessing(np.arange(100))\n",
    "#generator.create_vocabulary()\n",
    "'''\n",
    "with open(\"Data/n_batch.pkl\", \"wb\") as fp:   #Pickling\n",
    "    pickle.dump(l, fp) \n",
    "with open(\"test.txt\", \"rb\") as fp:   # Unpickling\n",
    "    b = pickle.load(fp)\n",
    "'''"
   ]
  },
  {
   "cell_type": "code",
   "execution_count": null,
   "metadata": {},
   "outputs": [],
   "source": [
    "with open(\"Data/train_ids.json\") as data_file:\n",
    "    vid_ids = json.load(data_file)\n",
    "with open(\"Data/train.json\") as data_file:\n",
    "     training_labels = json.load(data_file)\n",
    "captions_in_each_video = []\n",
    "remove_later = []\n",
    "\n",
    "print(training_labels['v_bEt8fGREAAA'])\n",
    "\n",
    "for i in range(len(vid_ids)):\n",
    "    try:\n",
    "        for j in range(len(training_labels[vid_ids[i]]['sentences'])):\n",
    "            ######training_labels[i]['caption'][j]#####\n",
    "            assert len(training_labels[vid_ids[i]]['sentences']) == len(training_labels[vid_ids[i]]['timestamps'])\n",
    "            training_labels[vid_ids[i]]['sentences'][j] = \"<s> \"+training_labels[vid_ids[i]]['sentences'][j]+\" <e>\"\n",
    "    except KeyError:\n",
    "        print(\"\\tError Caption: %s\"%vid_ids[i])"
   ]
  },
  {
   "cell_type": "code",
   "execution_count": null,
   "metadata": {},
   "outputs": [],
   "source": [
    "'v_D_XMD02v690' in vid_ids"
   ]
  },
  {
   "cell_type": "code",
   "execution_count": null,
   "metadata": {},
   "outputs": [],
   "source": [
    "training_labels['v_mQHY2uMOMP4']"
   ]
  },
  {
   "cell_type": "code",
   "execution_count": null,
   "metadata": {},
   "outputs": [],
   "source": [
    "a=np.array([[1,2,3],[5,4,6],[9,12,6]])\n",
    "c,d = a.shape\n",
    "print(c,d)"
   ]
  },
  {
   "cell_type": "code",
   "execution_count": null,
   "metadata": {},
   "outputs": [],
   "source": [
    "import numpy as np\n",
    "a=[[1,22],[4,3],[0,9]]\n",
    "np.max(a)"
   ]
  },
  {
   "cell_type": "code",
   "execution_count": null,
   "metadata": {},
   "outputs": [],
   "source": [
    "f_init = 5\n",
    "duration = 40\n",
    "t_size = 1\n",
    "s = 2\n",
    "for i in range(f_init,f_init + duration - t_size + 1, s):\n",
    "    print(i)"
   ]
  },
  {
   "cell_type": "code",
   "execution_count": null,
   "metadata": {},
   "outputs": [],
   "source": [
    "import os\n",
    "os.listdir('Data/)"
   ]
  },
  {
   "cell_type": "code",
   "execution_count": null,
   "metadata": {},
   "outputs": [],
   "source": [
    "import numpy as np\n",
    "import pickle\n",
    "mylist = np.arange(15)\n",
    "with open('parrot.pkl', 'wb') as f:\n",
    "    pickle.dump(mylist, f)"
   ]
  },
  {
   "cell_type": "code",
   "execution_count": null,
   "metadata": {},
   "outputs": [],
   "source": [
    "with open('parrot.pkl', 'rb') as f2:\n",
    "    mynewlist = pickle.load(f2)"
   ]
  },
  {
   "cell_type": "code",
   "execution_count": null,
   "metadata": {},
   "outputs": [],
   "source": [
    "mynewlist"
   ]
  },
  {
   "cell_type": "code",
   "execution_count": 4,
   "metadata": {},
   "outputs": [],
   "source": [
    "a=['a','b','c','ds']\n",
    "a.remove('a')"
   ]
  },
  {
   "cell_type": "code",
   "execution_count": 5,
   "metadata": {},
   "outputs": [
    {
     "data": {
      "text/plain": [
       "['b', 'c', 'ds']"
      ]
     },
     "execution_count": 5,
     "metadata": {},
     "output_type": "execute_result"
    }
   ],
   "source": [
    "a"
   ]
  },
  {
   "cell_type": "code",
   "execution_count": null,
   "metadata": {},
   "outputs": [],
   "source": []
  }
 ],
 "metadata": {
  "kernelspec": {
   "display_name": "Python 3",
   "language": "python",
   "name": "python3"
  },
  "language_info": {
   "codemirror_mode": {
    "name": "ipython",
    "version": 3
   },
   "file_extension": ".py",
   "mimetype": "text/x-python",
   "name": "python",
   "nbconvert_exporter": "python",
   "pygments_lexer": "ipython3",
   "version": "3.6.4"
  }
 },
 "nbformat": 4,
 "nbformat_minor": 2
}
