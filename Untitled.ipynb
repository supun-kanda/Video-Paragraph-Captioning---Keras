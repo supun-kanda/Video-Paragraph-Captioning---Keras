{
 "cells": [
  {
   "cell_type": "code",
   "execution_count": 1,
   "metadata": {},
   "outputs": [
    {
     "name": "stderr",
     "output_type": "stream",
     "text": [
      "Using TensorFlow backend.\n"
     ]
    }
   ],
   "source": [
    "import numpy as np\n",
    "from Caption_Generator import Caption_Generator"
   ]
  },
  {
   "cell_type": "code",
   "execution_count": 2,
   "metadata": {},
   "outputs": [
    {
     "name": "stdout",
     "output_type": "stream",
     "text": [
      "creating vocabulary...\n",
      "\tKey Error:v_D_XMD02v690\n",
      "\tKey Error:v_dAa10hlgxCY\n",
      "\tKey Error:v_D7aa0iuPlKc\n",
      "\tKey Error:v_dHBhJ7MRxPQ\n",
      "\tKey Error:v_CuyMHCcxqNc\n",
      "\tKey Error:v_HQdnIIRVqEk\n",
      "\tKey Error:v_u6HM4rYdllc\n",
      "\tKey Error:v_JNvwkiz8Bzw\n",
      "\tKey Error:v_ASKSqeyhpgc\n",
      "\tKey Error:v_JkxO6IhuhOs\n",
      "\tKey Error:v_VSdjLyGA8Oc\n",
      "\tKey Error:v_ORcQpMrCLTI\n",
      "\tKey Error:v_LQW4hk1FLgw\n",
      "\tKey Error:v_1v5HE_Nm99g\n",
      "\tKey Error:v_y_zFbT7xXKI\n",
      "Max sentence length :  76\n"
     ]
    },
    {
     "data": {
      "text/plain": [
       "'\\nwith open(\"Data/n_batch.pkl\", \"wb\") as fp:   #Pickling\\n    pickle.dump(l, fp) \\nwith open(\"test.txt\", \"rb\") as fp:   # Unpickling\\n    b = pickle.load(fp)\\n'"
      ]
     },
     "execution_count": 2,
     "metadata": {},
     "output_type": "execute_result"
    }
   ],
   "source": [
    "import json\n",
    "json_file = \"Data/train_ids.json\"\n",
    "with open(json_file) as data_file:\n",
    "    n_batch = json.load(data_file)\n",
    "generator = Caption_Generator(n_batch = n_batch)\n",
    "#x=generator.read_data(n_batch)\n",
    "generator.create_vocabulary()\n",
    "'''\n",
    "with open(\"Data/n_batch.pkl\", \"wb\") as fp:   #Pickling\n",
    "    pickle.dump(l, fp) \n",
    "with open(\"test.txt\", \"rb\") as fp:   # Unpickling\n",
    "    b = pickle.load(fp)\n",
    "'''"
   ]
  },
  {
   "cell_type": "code",
   "execution_count": null,
   "metadata": {},
   "outputs": [],
   "source": [
    "generator.captions_in_each_video"
   ]
  },
  {
   "cell_type": "code",
   "execution_count": null,
   "metadata": {},
   "outputs": [],
   "source": [
    "for i in range(x.shape[0]):\n",
    "    print(x[i,0])"
   ]
  },
  {
   "cell_type": "code",
   "execution_count": null,
   "metadata": {},
   "outputs": [],
   "source": [
    "np.zeros((2,2,10))"
   ]
  },
  {
   "cell_type": "code",
   "execution_count": null,
   "metadata": {},
   "outputs": [],
   "source": []
  },
  {
   "cell_type": "code",
   "execution_count": null,
   "metadata": {},
   "outputs": [],
   "source": []
  }
 ],
 "metadata": {
  "kernelspec": {
   "display_name": "Python 3",
   "language": "python",
   "name": "python3"
  },
  "language_info": {
   "codemirror_mode": {
    "name": "ipython",
    "version": 3
   },
   "file_extension": ".py",
   "mimetype": "text/x-python",
   "name": "python",
   "nbconvert_exporter": "python",
   "pygments_lexer": "ipython3",
   "version": "3.6.4"
  }
 },
 "nbformat": 4,
 "nbformat_minor": 2
}
